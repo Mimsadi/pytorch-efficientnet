{
 "cells": [
  {
   "cell_type": "code",
   "execution_count": 1,
   "metadata": {},
   "outputs": [],
   "source": [
    "import torch\n",
    "import torchvision.transforms as transforms\n",
    "import torchvision.datasets as datasets\n",
    "from sklearn.metrics import accuracy_score\n",
    "from PIL import Image\n",
    "\n",
    "from efficientnet import EfficientNet"
   ]
  },
  {
   "cell_type": "code",
   "execution_count": 2,
   "metadata": {},
   "outputs": [],
   "source": [
    "def eval_model(model, dataloader, device, criterion=None):\n",
    "    loss_value = []\n",
    "    y_pred = []\n",
    "    y_true = []\n",
    "\n",
    "    model.eval()\n",
    "    with torch.no_grad():\n",
    "        for xb, yb in dataloader:\n",
    "            xb, yb = xb.to(device), yb.to(device)\n",
    "            out = model(xb)\n",
    "            if out.size(1) == 1:\n",
    "                # regression\n",
    "                out = torch.squeeze(out, 1)\n",
    "\n",
    "            if criterion is not None:\n",
    "                loss = criterion(out, yb)\n",
    "                loss_value.append(loss.item())\n",
    "\n",
    "            y_pred.append(out.detach().cpu())\n",
    "            y_true.append(yb.detach().cpu())\n",
    "\n",
    "    if criterion is not None:\n",
    "        loss_value = sum(loss_value) / len(loss_value)\n",
    "        return torch.cat(y_pred), torch.cat(y_true), loss_value\n",
    "    else:\n",
    "        return torch.cat(y_pred), torch.cat(y_true)"
   ]
  },
  {
   "cell_type": "code",
   "execution_count": 3,
   "metadata": {},
   "outputs": [
    {
     "name": "stdout",
     "output_type": "stream",
     "text": [
      "Model weights loaded successfully.\n"
     ]
    }
   ],
   "source": [
    "device = torch.device(\"cuda\" if torch.cuda.is_available() else \"cpu\")\n",
    "\n",
    "# EfficientNet model index, i.e. 0 for for EfficientNet-B0\n",
    "idx = 0\n",
    "model = EfficientNet(idx, pretrained=True, progress=True)\n",
    "model.to(device)\n",
    "\n",
    "val_trainsforms = transforms.Compose([\n",
    "    transforms.Resize(model.input_spatial_shape[0], interpolation=Image.BICUBIC),\n",
    "    transforms.CenterCrop(model.input_spatial_shape),\n",
    "    transforms.ToTensor(),\n",
    "    transforms.Normalize(mean=[0.485, 0.456, 0.406],\n",
    "                         std=[0.229, 0.224, 0.225]),\n",
    "])\n",
    "\n",
    "imagenet_root_path = \"imagenet\"\n",
    "# WARNING: following line will download ImageNet validation subset which is ~7GB large\n",
    "# if imagenet dataset contents are not found in imagenet_root_path, \n",
    "# set download=True if you are ok with downloading it\n",
    "val_dataset = datasets.ImageNet(root=imagenet_root_path, split=\"val\",\n",
    "                                download=False,\n",
    "                                transform=val_trainsforms)\n",
    "\n",
    "val_loader = torch.utils.data.DataLoader(\n",
    "    val_dataset,\n",
    "    batch_size=32, shuffle=False,\n",
    "    num_workers=1, pin_memory=True)"
   ]
  },
  {
   "cell_type": "code",
   "execution_count": 4,
   "metadata": {},
   "outputs": [
    {
     "name": "stdout",
     "output_type": "stream",
     "text": [
      "Accuracy: 76.430%\n"
     ]
    }
   ],
   "source": [
    "y_pred, y_true = eval_model(model, val_loader, device)\n",
    "_, y_pred = torch.max(y_pred, 1)\n",
    "\n",
    "score = accuracy_score(y_pred, y_true)\n",
    "print(\"Accuracy: {:.3%}\".format(score))"
   ]
  },
  {
   "cell_type": "markdown",
   "metadata": {},
   "source": [
    "Expected evaluation metric values on ImageNet validation set \n",
    "\n",
    "EfficientNet-B0 - 76.43% <br>\n",
    "EfficientNet-B1 - 78.396% <br>\n",
    "EfficientNet-B2 - 79.804% <br>\n",
    "EfficientNet-B3 - 81.542% <br>\n",
    "EfficientNet-B4 - 83.036% <br>\n",
    "EfficientNet-B5 - 83.79% <br>\n",
    "EfficientNet-B6 - 84.136% <br>\n",
    "EfficientNet-B7 - 84.578% <br>"
   ]
  }
 ],
 "metadata": {
  "kernelspec": {
   "display_name": "Python 3",
   "language": "python",
   "name": "python3"
  },
  "language_info": {
   "codemirror_mode": {
    "name": "ipython",
    "version": 3
   },
   "file_extension": ".py",
   "mimetype": "text/x-python",
   "name": "python",
   "nbconvert_exporter": "python",
   "pygments_lexer": "ipython3",
   "version": "3.6.7"
  }
 },
 "nbformat": 4,
 "nbformat_minor": 4
}
